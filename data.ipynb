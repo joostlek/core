{
 "cells": [
  {
   "cell_type": "code",
   "id": "initial_id",
   "metadata": {
    "collapsed": true,
    "ExecuteTime": {
     "end_time": "2024-06-12T12:07:41.585787Z",
     "start_time": "2024-06-12T12:07:41.583886Z"
    }
   },
   "source": [
    "from homeassistant.const import Platform\n",
    "import pandas as pd\n",
    "import numpy as np\n",
    "import os\n",
    "import json"
   ],
   "outputs": [],
   "execution_count": 393
  },
  {
   "metadata": {
    "ExecuteTime": {
     "end_time": "2024-06-12T12:07:41.644715Z",
     "start_time": "2024-06-12T12:07:41.636508Z"
    }
   },
   "cell_type": "code",
   "source": [
    "integrations = [x for x in os.listdir(\"homeassistant/components\") if os.path.isdir(f\"homeassistant/components/{x}\") and not x.startswith(\"__\")]\n",
    "df = pd.DataFrame({\"domain\": integrations})\n",
    "df = df.sort_values(\"domain\")\n",
    "df.reset_index(inplace=True)\n",
    "df = df.drop(columns=[\"index\"])\n",
    "df.head()"
   ],
   "id": "b37fee2e079361d9",
   "outputs": [
    {
     "data": {
      "text/plain": [
       "           domain\n",
       "0    3_day_blinds\n",
       "1           abode\n",
       "2     accuweather\n",
       "3  acer_projector\n",
       "4          acmeda"
      ],
      "text/html": [
       "<div>\n",
       "<style scoped>\n",
       "    .dataframe tbody tr th:only-of-type {\n",
       "        vertical-align: middle;\n",
       "    }\n",
       "\n",
       "    .dataframe tbody tr th {\n",
       "        vertical-align: top;\n",
       "    }\n",
       "\n",
       "    .dataframe thead th {\n",
       "        text-align: right;\n",
       "    }\n",
       "</style>\n",
       "<table border=\"1\" class=\"dataframe\">\n",
       "  <thead>\n",
       "    <tr style=\"text-align: right;\">\n",
       "      <th></th>\n",
       "      <th>domain</th>\n",
       "    </tr>\n",
       "  </thead>\n",
       "  <tbody>\n",
       "    <tr>\n",
       "      <th>0</th>\n",
       "      <td>3_day_blinds</td>\n",
       "    </tr>\n",
       "    <tr>\n",
       "      <th>1</th>\n",
       "      <td>abode</td>\n",
       "    </tr>\n",
       "    <tr>\n",
       "      <th>2</th>\n",
       "      <td>accuweather</td>\n",
       "    </tr>\n",
       "    <tr>\n",
       "      <th>3</th>\n",
       "      <td>acer_projector</td>\n",
       "    </tr>\n",
       "    <tr>\n",
       "      <th>4</th>\n",
       "      <td>acmeda</td>\n",
       "    </tr>\n",
       "  </tbody>\n",
       "</table>\n",
       "</div>"
      ]
     },
     "execution_count": 394,
     "metadata": {},
     "output_type": "execute_result"
    }
   ],
   "execution_count": 394
  },
  {
   "metadata": {
    "ExecuteTime": {
     "end_time": "2024-06-12T12:07:41.827381Z",
     "start_time": "2024-06-12T12:07:41.672781Z"
    }
   },
   "cell_type": "code",
   "source": [
    "df[\"name\"] = None\n",
    "df[\"quality_scale\"] = None\n",
    "df[\"iot_class\"] = None\n",
    "df[\"integration_type\"] = None\n",
    "df[\"config_flow\"] = False\n",
    "df[\"codeowners\"] = 0\n",
    "df[\"external_library\"] = False\n",
    "df[\"bluetooth\"] = False\n",
    "df[\"zeroconf\"] = False\n",
    "df[\"ssdp\"] = False\n",
    "df[\"dhcp\"] = False\n",
    "df[\"application_credentials\"] = False\n",
    "\n",
    "for integration_id, integration in df.iterrows():\n",
    "    domain = integration[\"domain\"]\n",
    "    with open(f\"homeassistant/components/{domain}/manifest.json\") as manifest_file:\n",
    "        manifest = json.load(manifest_file)\n",
    "        df.at[integration_id, \"name\"] = manifest.get(\"name\")\n",
    "        df.at[integration_id, \"quality_scale\"] = manifest.get(\"quality_scale\")\n",
    "        df.at[integration_id, \"external_library\"] = \"requirements\" in manifest\n",
    "        df.at[integration_id, \"codeowners\"] = len(manifest.get(\"codeowners\", []))\n",
    "        df.at[integration_id, \"integration_type\"] = manifest.get(\"integration_type\")\n",
    "        df.at[integration_id, \"iot_class\"] = manifest.get(\"iot_class\")\n",
    "        df.at[integration_id, \"bluetooth\"] = \"bluetooth\" in manifest\n",
    "        df.at[integration_id, \"zeroconf\"] = \"zeroconf\" in manifest\n",
    "        df.at[integration_id, \"ssdp\"] = \"ssdp\" in manifest\n",
    "        df.at[integration_id, \"dhcp\"] = \"dhcp\" in manifest\n",
    "        df.at[integration_id, \"application_credentials\"] = \"application_credentials\" in manifest.get(\"dependencies\", [])\n",
    "        df.at[integration_id, \"config_flow\"] = \"config_flow\" in manifest\n",
    "df.head()"
   ],
   "id": "2c958a35d55fafde",
   "outputs": [
    {
     "data": {
      "text/plain": [
       "           domain                      name quality_scale      iot_class  \\\n",
       "0    3_day_blinds              3 Day Blinds          None           None   \n",
       "1           abode                     Abode          None     cloud_push   \n",
       "2     accuweather               AccuWeather      platinum  cloud_polling   \n",
       "3  acer_projector            Acer Projector          None  local_polling   \n",
       "4          acmeda  Rollease Acmeda Automate          None     local_push   \n",
       "\n",
       "  integration_type  config_flow  codeowners  external_library  bluetooth  \\\n",
       "0          virtual        False           0             False      False   \n",
       "1             None         True           1              True      False   \n",
       "2          service         True           1              True      False   \n",
       "3             None        False           0              True      False   \n",
       "4             None         True           1              True      False   \n",
       "\n",
       "   zeroconf   ssdp   dhcp  application_credentials  \n",
       "0     False  False  False                    False  \n",
       "1     False  False  False                    False  \n",
       "2     False  False  False                    False  \n",
       "3     False  False  False                    False  \n",
       "4     False  False  False                    False  "
      ],
      "text/html": [
       "<div>\n",
       "<style scoped>\n",
       "    .dataframe tbody tr th:only-of-type {\n",
       "        vertical-align: middle;\n",
       "    }\n",
       "\n",
       "    .dataframe tbody tr th {\n",
       "        vertical-align: top;\n",
       "    }\n",
       "\n",
       "    .dataframe thead th {\n",
       "        text-align: right;\n",
       "    }\n",
       "</style>\n",
       "<table border=\"1\" class=\"dataframe\">\n",
       "  <thead>\n",
       "    <tr style=\"text-align: right;\">\n",
       "      <th></th>\n",
       "      <th>domain</th>\n",
       "      <th>name</th>\n",
       "      <th>quality_scale</th>\n",
       "      <th>iot_class</th>\n",
       "      <th>integration_type</th>\n",
       "      <th>config_flow</th>\n",
       "      <th>codeowners</th>\n",
       "      <th>external_library</th>\n",
       "      <th>bluetooth</th>\n",
       "      <th>zeroconf</th>\n",
       "      <th>ssdp</th>\n",
       "      <th>dhcp</th>\n",
       "      <th>application_credentials</th>\n",
       "    </tr>\n",
       "  </thead>\n",
       "  <tbody>\n",
       "    <tr>\n",
       "      <th>0</th>\n",
       "      <td>3_day_blinds</td>\n",
       "      <td>3 Day Blinds</td>\n",
       "      <td>None</td>\n",
       "      <td>None</td>\n",
       "      <td>virtual</td>\n",
       "      <td>False</td>\n",
       "      <td>0</td>\n",
       "      <td>False</td>\n",
       "      <td>False</td>\n",
       "      <td>False</td>\n",
       "      <td>False</td>\n",
       "      <td>False</td>\n",
       "      <td>False</td>\n",
       "    </tr>\n",
       "    <tr>\n",
       "      <th>1</th>\n",
       "      <td>abode</td>\n",
       "      <td>Abode</td>\n",
       "      <td>None</td>\n",
       "      <td>cloud_push</td>\n",
       "      <td>None</td>\n",
       "      <td>True</td>\n",
       "      <td>1</td>\n",
       "      <td>True</td>\n",
       "      <td>False</td>\n",
       "      <td>False</td>\n",
       "      <td>False</td>\n",
       "      <td>False</td>\n",
       "      <td>False</td>\n",
       "    </tr>\n",
       "    <tr>\n",
       "      <th>2</th>\n",
       "      <td>accuweather</td>\n",
       "      <td>AccuWeather</td>\n",
       "      <td>platinum</td>\n",
       "      <td>cloud_polling</td>\n",
       "      <td>service</td>\n",
       "      <td>True</td>\n",
       "      <td>1</td>\n",
       "      <td>True</td>\n",
       "      <td>False</td>\n",
       "      <td>False</td>\n",
       "      <td>False</td>\n",
       "      <td>False</td>\n",
       "      <td>False</td>\n",
       "    </tr>\n",
       "    <tr>\n",
       "      <th>3</th>\n",
       "      <td>acer_projector</td>\n",
       "      <td>Acer Projector</td>\n",
       "      <td>None</td>\n",
       "      <td>local_polling</td>\n",
       "      <td>None</td>\n",
       "      <td>False</td>\n",
       "      <td>0</td>\n",
       "      <td>True</td>\n",
       "      <td>False</td>\n",
       "      <td>False</td>\n",
       "      <td>False</td>\n",
       "      <td>False</td>\n",
       "      <td>False</td>\n",
       "    </tr>\n",
       "    <tr>\n",
       "      <th>4</th>\n",
       "      <td>acmeda</td>\n",
       "      <td>Rollease Acmeda Automate</td>\n",
       "      <td>None</td>\n",
       "      <td>local_push</td>\n",
       "      <td>None</td>\n",
       "      <td>True</td>\n",
       "      <td>1</td>\n",
       "      <td>True</td>\n",
       "      <td>False</td>\n",
       "      <td>False</td>\n",
       "      <td>False</td>\n",
       "      <td>False</td>\n",
       "      <td>False</td>\n",
       "    </tr>\n",
       "  </tbody>\n",
       "</table>\n",
       "</div>"
      ]
     },
     "execution_count": 395,
     "metadata": {},
     "output_type": "execute_result"
    }
   ],
   "execution_count": 395
  },
  {
   "metadata": {
    "ExecuteTime": {
     "end_time": "2024-06-12T12:07:41.833156Z",
     "start_time": "2024-06-12T12:07:41.828232Z"
    }
   },
   "cell_type": "code",
   "source": [
    "df = df[df[\"integration_type\"].isin([None, \"service\", \"device\", \"hub\"])]\n",
    "df.head()"
   ],
   "id": "94d29b705f86e3d8",
   "outputs": [
    {
     "data": {
      "text/plain": [
       "           domain                      name quality_scale      iot_class  \\\n",
       "1           abode                     Abode          None     cloud_push   \n",
       "2     accuweather               AccuWeather      platinum  cloud_polling   \n",
       "3  acer_projector            Acer Projector          None  local_polling   \n",
       "4          acmeda  Rollease Acmeda Automate          None     local_push   \n",
       "6       actiontec                 Actiontec          None  local_polling   \n",
       "\n",
       "  integration_type  config_flow  codeowners  external_library  bluetooth  \\\n",
       "1             None         True           1              True      False   \n",
       "2          service         True           1              True      False   \n",
       "3             None        False           0              True      False   \n",
       "4             None         True           1              True      False   \n",
       "6             None        False           0             False      False   \n",
       "\n",
       "   zeroconf   ssdp   dhcp  application_credentials  \n",
       "1     False  False  False                    False  \n",
       "2     False  False  False                    False  \n",
       "3     False  False  False                    False  \n",
       "4     False  False  False                    False  \n",
       "6     False  False  False                    False  "
      ],
      "text/html": [
       "<div>\n",
       "<style scoped>\n",
       "    .dataframe tbody tr th:only-of-type {\n",
       "        vertical-align: middle;\n",
       "    }\n",
       "\n",
       "    .dataframe tbody tr th {\n",
       "        vertical-align: top;\n",
       "    }\n",
       "\n",
       "    .dataframe thead th {\n",
       "        text-align: right;\n",
       "    }\n",
       "</style>\n",
       "<table border=\"1\" class=\"dataframe\">\n",
       "  <thead>\n",
       "    <tr style=\"text-align: right;\">\n",
       "      <th></th>\n",
       "      <th>domain</th>\n",
       "      <th>name</th>\n",
       "      <th>quality_scale</th>\n",
       "      <th>iot_class</th>\n",
       "      <th>integration_type</th>\n",
       "      <th>config_flow</th>\n",
       "      <th>codeowners</th>\n",
       "      <th>external_library</th>\n",
       "      <th>bluetooth</th>\n",
       "      <th>zeroconf</th>\n",
       "      <th>ssdp</th>\n",
       "      <th>dhcp</th>\n",
       "      <th>application_credentials</th>\n",
       "    </tr>\n",
       "  </thead>\n",
       "  <tbody>\n",
       "    <tr>\n",
       "      <th>1</th>\n",
       "      <td>abode</td>\n",
       "      <td>Abode</td>\n",
       "      <td>None</td>\n",
       "      <td>cloud_push</td>\n",
       "      <td>None</td>\n",
       "      <td>True</td>\n",
       "      <td>1</td>\n",
       "      <td>True</td>\n",
       "      <td>False</td>\n",
       "      <td>False</td>\n",
       "      <td>False</td>\n",
       "      <td>False</td>\n",
       "      <td>False</td>\n",
       "    </tr>\n",
       "    <tr>\n",
       "      <th>2</th>\n",
       "      <td>accuweather</td>\n",
       "      <td>AccuWeather</td>\n",
       "      <td>platinum</td>\n",
       "      <td>cloud_polling</td>\n",
       "      <td>service</td>\n",
       "      <td>True</td>\n",
       "      <td>1</td>\n",
       "      <td>True</td>\n",
       "      <td>False</td>\n",
       "      <td>False</td>\n",
       "      <td>False</td>\n",
       "      <td>False</td>\n",
       "      <td>False</td>\n",
       "    </tr>\n",
       "    <tr>\n",
       "      <th>3</th>\n",
       "      <td>acer_projector</td>\n",
       "      <td>Acer Projector</td>\n",
       "      <td>None</td>\n",
       "      <td>local_polling</td>\n",
       "      <td>None</td>\n",
       "      <td>False</td>\n",
       "      <td>0</td>\n",
       "      <td>True</td>\n",
       "      <td>False</td>\n",
       "      <td>False</td>\n",
       "      <td>False</td>\n",
       "      <td>False</td>\n",
       "      <td>False</td>\n",
       "    </tr>\n",
       "    <tr>\n",
       "      <th>4</th>\n",
       "      <td>acmeda</td>\n",
       "      <td>Rollease Acmeda Automate</td>\n",
       "      <td>None</td>\n",
       "      <td>local_push</td>\n",
       "      <td>None</td>\n",
       "      <td>True</td>\n",
       "      <td>1</td>\n",
       "      <td>True</td>\n",
       "      <td>False</td>\n",
       "      <td>False</td>\n",
       "      <td>False</td>\n",
       "      <td>False</td>\n",
       "      <td>False</td>\n",
       "    </tr>\n",
       "    <tr>\n",
       "      <th>6</th>\n",
       "      <td>actiontec</td>\n",
       "      <td>Actiontec</td>\n",
       "      <td>None</td>\n",
       "      <td>local_polling</td>\n",
       "      <td>None</td>\n",
       "      <td>False</td>\n",
       "      <td>0</td>\n",
       "      <td>False</td>\n",
       "      <td>False</td>\n",
       "      <td>False</td>\n",
       "      <td>False</td>\n",
       "      <td>False</td>\n",
       "      <td>False</td>\n",
       "    </tr>\n",
       "  </tbody>\n",
       "</table>\n",
       "</div>"
      ]
     },
     "execution_count": 396,
     "metadata": {},
     "output_type": "execute_result"
    }
   ],
   "execution_count": 396
  },
  {
   "metadata": {
    "ExecuteTime": {
     "end_time": "2024-06-12T12:07:42.319152Z",
     "start_time": "2024-06-12T12:07:41.833610Z"
    }
   },
   "cell_type": "code",
   "source": [
    "df[\"runtime_data\"] = False\n",
    "df[\"has_entity_name\"] = False\n",
    "df[\"device_info\"] = False\n",
    "df[\"entity_category\"] = False\n",
    "df[\"diagnostics\"] = False\n",
    "for integration_id, integration in df.iterrows():\n",
    "    domain = integration[\"domain\"]\n",
    "    for feature in Platform:\n",
    "        if os.path.isfile(f\"homeassistant/components/{domain}/{feature}.py\"):\n",
    "            with open(f\"homeassistant/components/{domain}/{feature}.py\") as file:\n",
    "                if \"entry.runtime_data\" in file.read():\n",
    "                    df.at[integration_id, \"runtime_data\"] = True\n",
    "                    break\n",
    "    files = [x for x in os.listdir(f\"homeassistant/components/{domain}\") if os.path.isfile(f\"homeassistant/components/{domain}/{x}\") and x.endswith(\".py\")]\n",
    "    if \"diagnostics.py\" in files:\n",
    "        df.at[integration_id, \"diagnostics\"] = True\n",
    "    for file in files:\n",
    "        with open(f\"homeassistant/components/{domain}/{file}\") as file2:\n",
    "            body = file2.read()\n",
    "            if \"has_entity_name = True\" in body:\n",
    "                df.at[integration_id, \"has_entity_name\"] = True\n",
    "            if \"DeviceInfo\" in body:\n",
    "                df.at[integration_id, \"device_info\"] = True\n",
    "            if \"EntityCategory\" in body:\n",
    "                df.at[integration_id, \"entity_category\"] = True\n",
    "            \n"
   ],
   "id": "7e47964211db0f31",
   "outputs": [],
   "execution_count": 397
  },
  {
   "metadata": {
    "ExecuteTime": {
     "end_time": "2024-06-12T12:07:42.377853Z",
     "start_time": "2024-06-12T12:07:42.320584Z"
    }
   },
   "cell_type": "code",
   "source": [
    "df[\"entity_translations\"] = False\n",
    "df[\"exception_translations\"] = False\n",
    "for integration_id, integration in df.iterrows():\n",
    "    domain = integration[\"domain\"]\n",
    "    if os.path.isfile(f\"homeassistant/components/{domain}/strings.json\"):\n",
    "        file = json.load(open(f\"homeassistant/components/{domain}/strings.json\"))\n",
    "        if \"entity\" in file:\n",
    "            df.at[integration_id, \"entity_translations\"] = True\n",
    "        if \"exceptions\" in file:\n",
    "            df.at[integration_id, \"exception_translations\"] = True"
   ],
   "id": "d2d235f538e059ff",
   "outputs": [],
   "execution_count": 398
  },
  {
   "metadata": {
    "ExecuteTime": {
     "end_time": "2024-06-12T12:07:42.422504Z",
     "start_time": "2024-06-12T12:07:42.378535Z"
    }
   },
   "cell_type": "code",
   "source": [
    "df[\"unique_id\"] = False\n",
    "df[\"abort_entries_match\"] = False\n",
    "df[\"reauth\"] = False\n",
    "df[\"reconfigure\"] = False\n",
    "for integration_id, integration in df.iterrows():\n",
    "    domain = integration[\"domain\"]\n",
    "    if os.path.isfile(f\"homeassistant/components/{domain}/config_flow.py\"):\n",
    "        with open(f\"homeassistant/components/{domain}/config_flow.py\") as file:\n",
    "            body = file.read()\n",
    "            if \"self.async_set_unique_id\" in body:\n",
    "                df.at[integration_id, \"unique_id\"] = True\n",
    "            if \"self._async_abort_entries_match\" in body:\n",
    "                df.at[integration_id, \"abort_entries_match\"] = True\n",
    "            if \"async_step_reauth\" in body:\n",
    "                df.at[integration_id, \"reauth\"] = True\n",
    "            if \"async_step_reconfigure\" in body:\n",
    "                df.at[integration_id, \"reconfigure\"] = True"
   ],
   "id": "10c4fc9d7c4127c3",
   "outputs": [],
   "execution_count": 399
  },
  {
   "metadata": {
    "ExecuteTime": {
     "end_time": "2024-06-12T12:07:42.464031Z",
     "start_time": "2024-06-12T12:07:42.423118Z"
    }
   },
   "cell_type": "code",
   "source": [
    "df[\"entry_unload\"] = False\n",
    "for integration_id, integration in df.iterrows():\n",
    "    domain = integration[\"domain\"]\n",
    "    if os.path.isfile(f\"homeassistant/components/{domain}/config_flow.py\"):\n",
    "        with open(f\"homeassistant/components/{domain}/__init__.py\") as file:\n",
    "            body = file.read()\n",
    "            if \"async_unload_entry\" in body:\n",
    "                df.at[integration_id, \"entry_unload\"] = True"
   ],
   "id": "75c57eeb6c14c474",
   "outputs": [],
   "execution_count": 400
  },
  {
   "metadata": {
    "ExecuteTime": {
     "end_time": "2024-06-12T12:07:42.469662Z",
     "start_time": "2024-06-12T12:07:42.464612Z"
    }
   },
   "cell_type": "code",
   "source": [
    "silver = df[df[\"quality_scale\"] == \"silver\"]\n",
    "gold = df[df[\"quality_scale\"] == \"gold\"]\n",
    "platinum = df[df[\"quality_scale\"] == \"platinum\"]\n",
    "up_to_gold = pd.concat([silver, gold])\n",
    "up_to_platinum = pd.concat([silver, gold, platinum])\n",
    "config_flow_integrations = df[df[\"config_flow\"]]"
   ],
   "id": "797db284a162b84b",
   "outputs": [],
   "execution_count": 401
  },
  {
   "metadata": {
    "ExecuteTime": {
     "end_time": "2024-06-12T12:07:42.472044Z",
     "start_time": "2024-06-12T12:07:42.470126Z"
    }
   },
   "cell_type": "code",
   "source": [
    "def percentage(dataframe: pd.DataFrame, series: pd.Series) -> str:\n",
    "    total_amount = len(dataframe)\n",
    "    amount = len(series)\n",
    "    return f\"Total: {total_amount}, Amount: {amount}, Percentage: {amount / total_amount * 100:.2f}%\""
   ],
   "id": "71b5748eb0820d19",
   "outputs": [],
   "execution_count": 402
  },
  {
   "metadata": {
    "ExecuteTime": {
     "end_time": "2024-06-12T12:07:42.475295Z",
     "start_time": "2024-06-12T12:07:42.472680Z"
    }
   },
   "cell_type": "code",
   "source": "percentage(df, df[df[\"config_flow\"]])",
   "id": "be702f1cf8c3ec91",
   "outputs": [
    {
     "data": {
      "text/plain": [
       "'Total: 1054, Amount: 631, Percentage: 59.87%'"
      ]
     },
     "execution_count": 403,
     "metadata": {},
     "output_type": "execute_result"
    }
   ],
   "execution_count": 403
  },
  {
   "metadata": {
    "ExecuteTime": {
     "end_time": "2024-06-12T12:07:42.479722Z",
     "start_time": "2024-06-12T12:07:42.477248Z"
    }
   },
   "cell_type": "code",
   "source": "percentage(up_to_platinum, up_to_platinum[up_to_platinum[\"config_flow\"]])",
   "id": "fda0192d0c1bbb79",
   "outputs": [
    {
     "data": {
      "text/plain": [
       "'Total: 94, Amount: 93, Percentage: 98.94%'"
      ]
     },
     "execution_count": 404,
     "metadata": {},
     "output_type": "execute_result"
    }
   ],
   "execution_count": 404
  },
  {
   "metadata": {
    "ExecuteTime": {
     "end_time": "2024-06-12T12:07:42.482505Z",
     "start_time": "2024-06-12T12:07:42.480212Z"
    }
   },
   "cell_type": "code",
   "source": "percentage(config_flow_integrations, config_flow_integrations[config_flow_integrations[\"runtime_data\"]])",
   "id": "7609b97cd3f522de",
   "outputs": [
    {
     "data": {
      "text/plain": [
       "'Total: 631, Amount: 106, Percentage: 16.80%'"
      ]
     },
     "execution_count": 405,
     "metadata": {},
     "output_type": "execute_result"
    }
   ],
   "execution_count": 405
  },
  {
   "metadata": {
    "ExecuteTime": {
     "end_time": "2024-06-12T12:07:42.485626Z",
     "start_time": "2024-06-12T12:07:42.482939Z"
    }
   },
   "cell_type": "code",
   "source": "percentage(platinum[platinum[\"config_flow\"]], platinum[platinum[\"runtime_data\"]])",
   "id": "a8cfae393dd8a3b7",
   "outputs": [
    {
     "data": {
      "text/plain": [
       "'Total: 62, Amount: 27, Percentage: 43.55%'"
      ]
     },
     "execution_count": 406,
     "metadata": {},
     "output_type": "execute_result"
    }
   ],
   "execution_count": 406
  },
  {
   "metadata": {
    "ExecuteTime": {
     "end_time": "2024-06-12T12:07:42.488946Z",
     "start_time": "2024-06-12T12:07:42.486286Z"
    }
   },
   "cell_type": "code",
   "source": "percentage(up_to_platinum[up_to_platinum[\"config_flow\"]], up_to_platinum[up_to_platinum[\"abort_entries_match\"]])",
   "id": "751ecf4ae296a9a0",
   "outputs": [
    {
     "data": {
      "text/plain": [
       "'Total: 93, Amount: 19, Percentage: 20.43%'"
      ]
     },
     "execution_count": 407,
     "metadata": {},
     "output_type": "execute_result"
    }
   ],
   "execution_count": 407
  },
  {
   "metadata": {
    "ExecuteTime": {
     "end_time": "2024-06-12T12:07:42.491702Z",
     "start_time": "2024-06-12T12:07:42.489474Z"
    }
   },
   "cell_type": "code",
   "source": "percentage(config_flow_integrations, config_flow_integrations[config_flow_integrations[\"abort_entries_match\"]])",
   "id": "2d9a4d70c64c811f",
   "outputs": [
    {
     "data": {
      "text/plain": [
       "'Total: 631, Amount: 126, Percentage: 19.97%'"
      ]
     },
     "execution_count": 408,
     "metadata": {},
     "output_type": "execute_result"
    }
   ],
   "execution_count": 408
  },
  {
   "metadata": {
    "ExecuteTime": {
     "end_time": "2024-06-12T12:07:42.495209Z",
     "start_time": "2024-06-12T12:07:42.492230Z"
    }
   },
   "cell_type": "code",
   "source": [
    "no_abort = config_flow_integrations[config_flow_integrations[\"abort_entries_match\"] == False]\n",
    "no_abort = no_abort[no_abort[\"unique_id\"] == False]\n",
    "len(no_abort)"
   ],
   "id": "e9ac893f046a852",
   "outputs": [
    {
     "data": {
      "text/plain": [
       "135"
      ]
     },
     "execution_count": 409,
     "metadata": {},
     "output_type": "execute_result"
    }
   ],
   "execution_count": 409
  },
  {
   "metadata": {
    "ExecuteTime": {
     "end_time": "2024-06-12T12:07:42.498217Z",
     "start_time": "2024-06-12T12:07:42.495673Z"
    }
   },
   "cell_type": "code",
   "source": "percentage(up_to_platinum[up_to_platinum[\"config_flow\"]], up_to_platinum[up_to_platinum[\"entry_unload\"]])",
   "id": "ad837148ba602d90",
   "outputs": [
    {
     "data": {
      "text/plain": [
       "'Total: 93, Amount: 93, Percentage: 100.00%'"
      ]
     },
     "execution_count": 410,
     "metadata": {},
     "output_type": "execute_result"
    }
   ],
   "execution_count": 410
  },
  {
   "metadata": {
    "ExecuteTime": {
     "end_time": "2024-06-12T12:07:42.501288Z",
     "start_time": "2024-06-12T12:07:42.498756Z"
    }
   },
   "cell_type": "code",
   "source": "percentage(config_flow_integrations, config_flow_integrations[config_flow_integrations[\"has_entity_name\"]])",
   "id": "35583e5b25221719",
   "outputs": [
    {
     "data": {
      "text/plain": [
       "'Total: 631, Amount: 479, Percentage: 75.91%'"
      ]
     },
     "execution_count": 411,
     "metadata": {},
     "output_type": "execute_result"
    }
   ],
   "execution_count": 411
  },
  {
   "metadata": {
    "ExecuteTime": {
     "end_time": "2024-06-12T12:07:42.504236Z",
     "start_time": "2024-06-12T12:07:42.501864Z"
    }
   },
   "cell_type": "code",
   "source": "percentage(up_to_platinum[up_to_platinum[\"config_flow\"]], up_to_platinum[up_to_platinum[\"has_entity_name\"]])",
   "id": "6e425753cb43a3da",
   "outputs": [
    {
     "data": {
      "text/plain": [
       "'Total: 93, Amount: 81, Percentage: 87.10%'"
      ]
     },
     "execution_count": 412,
     "metadata": {},
     "output_type": "execute_result"
    }
   ],
   "execution_count": 412
  },
  {
   "metadata": {
    "ExecuteTime": {
     "end_time": "2024-06-12T12:07:42.506895Z",
     "start_time": "2024-06-12T12:07:42.504698Z"
    }
   },
   "cell_type": "code",
   "source": "percentage(config_flow_integrations, config_flow_integrations[config_flow_integrations[\"entity_translations\"]])",
   "id": "ad4d6fba4eb67315",
   "outputs": [
    {
     "data": {
      "text/plain": [
       "'Total: 631, Amount: 350, Percentage: 55.47%'"
      ]
     },
     "execution_count": 413,
     "metadata": {},
     "output_type": "execute_result"
    }
   ],
   "execution_count": 413
  },
  {
   "metadata": {
    "ExecuteTime": {
     "end_time": "2024-06-12T12:07:42.509927Z",
     "start_time": "2024-06-12T12:07:42.507343Z"
    }
   },
   "cell_type": "code",
   "source": "percentage(up_to_platinum[up_to_platinum[\"config_flow\"]], up_to_platinum[up_to_platinum[\"entity_translations\"]])",
   "id": "aea8c1f01a389c7b",
   "outputs": [
    {
     "data": {
      "text/plain": [
       "'Total: 93, Amount: 64, Percentage: 68.82%'"
      ]
     },
     "execution_count": 414,
     "metadata": {},
     "output_type": "execute_result"
    }
   ],
   "execution_count": 414
  },
  {
   "metadata": {
    "ExecuteTime": {
     "end_time": "2024-06-12T12:07:42.512905Z",
     "start_time": "2024-06-12T12:07:42.510501Z"
    }
   },
   "cell_type": "code",
   "source": "percentage(config_flow_integrations, config_flow_integrations[config_flow_integrations[\"device_info\"]])",
   "id": "4d4171d3f3a19e62",
   "outputs": [
    {
     "data": {
      "text/plain": [
       "'Total: 631, Amount: 537, Percentage: 85.10%'"
      ]
     },
     "execution_count": 415,
     "metadata": {},
     "output_type": "execute_result"
    }
   ],
   "execution_count": 415
  },
  {
   "metadata": {
    "ExecuteTime": {
     "end_time": "2024-06-12T12:07:42.515555Z",
     "start_time": "2024-06-12T12:07:42.513432Z"
    }
   },
   "cell_type": "code",
   "source": "percentage(up_to_platinum[up_to_platinum[\"config_flow\"]], up_to_platinum[up_to_platinum[\"device_info\"]])",
   "id": "f3611fd2c627362b",
   "outputs": [
    {
     "data": {
      "text/plain": [
       "'Total: 93, Amount: 89, Percentage: 95.70%'"
      ]
     },
     "execution_count": 416,
     "metadata": {},
     "output_type": "execute_result"
    }
   ],
   "execution_count": 416
  },
  {
   "metadata": {
    "ExecuteTime": {
     "end_time": "2024-06-12T12:07:42.518106Z",
     "start_time": "2024-06-12T12:07:42.515969Z"
    }
   },
   "cell_type": "code",
   "source": "percentage(config_flow_integrations, config_flow_integrations[config_flow_integrations[\"entity_category\"]])",
   "id": "fce1d82ccc9053b1",
   "outputs": [
    {
     "data": {
      "text/plain": [
       "'Total: 631, Amount: 205, Percentage: 32.49%'"
      ]
     },
     "execution_count": 417,
     "metadata": {},
     "output_type": "execute_result"
    }
   ],
   "execution_count": 417
  },
  {
   "metadata": {
    "ExecuteTime": {
     "end_time": "2024-06-12T12:07:42.521004Z",
     "start_time": "2024-06-12T12:07:42.518562Z"
    }
   },
   "cell_type": "code",
   "source": "percentage(up_to_platinum[up_to_platinum[\"config_flow\"]], up_to_platinum[up_to_platinum[\"entity_category\"]])",
   "id": "73cb4551669430b5",
   "outputs": [
    {
     "data": {
      "text/plain": [
       "'Total: 93, Amount: 42, Percentage: 45.16%'"
      ]
     },
     "execution_count": 418,
     "metadata": {},
     "output_type": "execute_result"
    }
   ],
   "execution_count": 418
  },
  {
   "metadata": {
    "ExecuteTime": {
     "end_time": "2024-06-12T12:07:42.523648Z",
     "start_time": "2024-06-12T12:07:42.521431Z"
    }
   },
   "cell_type": "code",
   "source": "percentage(config_flow_integrations, config_flow_integrations[config_flow_integrations[\"ssdp\"]])",
   "id": "19386b3361cf2f57",
   "outputs": [
    {
     "data": {
      "text/plain": [
       "'Total: 631, Amount: 38, Percentage: 6.02%'"
      ]
     },
     "execution_count": 419,
     "metadata": {},
     "output_type": "execute_result"
    }
   ],
   "execution_count": 419
  },
  {
   "metadata": {
    "ExecuteTime": {
     "end_time": "2024-06-12T12:07:42.526201Z",
     "start_time": "2024-06-12T12:07:42.524152Z"
    }
   },
   "cell_type": "code",
   "source": "percentage(config_flow_integrations, config_flow_integrations[config_flow_integrations[\"bluetooth\"]])",
   "id": "534cb6bb75434305",
   "outputs": [
    {
     "data": {
      "text/plain": [
       "'Total: 631, Amount: 39, Percentage: 6.18%'"
      ]
     },
     "execution_count": 420,
     "metadata": {},
     "output_type": "execute_result"
    }
   ],
   "execution_count": 420
  },
  {
   "metadata": {
    "ExecuteTime": {
     "end_time": "2024-06-12T12:07:42.528928Z",
     "start_time": "2024-06-12T12:07:42.526814Z"
    }
   },
   "cell_type": "code",
   "source": "percentage(config_flow_integrations, config_flow_integrations[config_flow_integrations[\"zeroconf\"]])",
   "id": "1e591b04a3f52293",
   "outputs": [
    {
     "data": {
      "text/plain": [
       "'Total: 631, Amount: 72, Percentage: 11.41%'"
      ]
     },
     "execution_count": 421,
     "metadata": {},
     "output_type": "execute_result"
    }
   ],
   "execution_count": 421
  },
  {
   "metadata": {
    "ExecuteTime": {
     "end_time": "2024-06-12T12:07:42.534394Z",
     "start_time": "2024-06-12T12:07:42.532119Z"
    }
   },
   "cell_type": "code",
   "source": "percentage(config_flow_integrations, config_flow_integrations[config_flow_integrations[\"dhcp\"]])",
   "id": "ab1071b1ea744064",
   "outputs": [
    {
     "data": {
      "text/plain": [
       "'Total: 631, Amount: 68, Percentage: 10.78%'"
      ]
     },
     "execution_count": 422,
     "metadata": {},
     "output_type": "execute_result"
    }
   ],
   "execution_count": 422
  },
  {
   "metadata": {
    "ExecuteTime": {
     "end_time": "2024-06-12T12:07:42.537577Z",
     "start_time": "2024-06-12T12:07:42.535073Z"
    }
   },
   "cell_type": "code",
   "source": "percentage(up_to_platinum[up_to_platinum[\"config_flow\"]], up_to_platinum[up_to_platinum[\"ssdp\"]])",
   "id": "75a07a295ea38ac7",
   "outputs": [
    {
     "data": {
      "text/plain": [
       "'Total: 93, Amount: 12, Percentage: 12.90%'"
      ]
     },
     "execution_count": 423,
     "metadata": {},
     "output_type": "execute_result"
    }
   ],
   "execution_count": 423
  },
  {
   "metadata": {
    "ExecuteTime": {
     "end_time": "2024-06-12T12:07:42.540772Z",
     "start_time": "2024-06-12T12:07:42.538248Z"
    }
   },
   "cell_type": "code",
   "source": "percentage(up_to_platinum[up_to_platinum[\"config_flow\"]], up_to_platinum[up_to_platinum[\"bluetooth\"]])",
   "id": "565dd184d4e1d7b",
   "outputs": [
    {
     "data": {
      "text/plain": [
       "'Total: 93, Amount: 2, Percentage: 2.15%'"
      ]
     },
     "execution_count": 424,
     "metadata": {},
     "output_type": "execute_result"
    }
   ],
   "execution_count": 424
  },
  {
   "metadata": {
    "ExecuteTime": {
     "end_time": "2024-06-12T12:07:42.543722Z",
     "start_time": "2024-06-12T12:07:42.541250Z"
    }
   },
   "cell_type": "code",
   "source": "percentage(up_to_platinum[up_to_platinum[\"config_flow\"]], up_to_platinum[up_to_platinum[\"zeroconf\"]])",
   "id": "72908a0bb267baee",
   "outputs": [
    {
     "data": {
      "text/plain": [
       "'Total: 93, Amount: 20, Percentage: 21.51%'"
      ]
     },
     "execution_count": 425,
     "metadata": {},
     "output_type": "execute_result"
    }
   ],
   "execution_count": 425
  },
  {
   "metadata": {
    "ExecuteTime": {
     "end_time": "2024-06-12T12:07:42.546572Z",
     "start_time": "2024-06-12T12:07:42.544256Z"
    }
   },
   "cell_type": "code",
   "source": "percentage(up_to_platinum[up_to_platinum[\"config_flow\"]], up_to_platinum[up_to_platinum[\"dhcp\"]])",
   "id": "de586126761a1128",
   "outputs": [
    {
     "data": {
      "text/plain": [
       "'Total: 93, Amount: 12, Percentage: 12.90%'"
      ]
     },
     "execution_count": 426,
     "metadata": {},
     "output_type": "execute_result"
    }
   ],
   "execution_count": 426
  },
  {
   "metadata": {
    "ExecuteTime": {
     "end_time": "2024-06-12T12:07:42.549447Z",
     "start_time": "2024-06-12T12:07:42.547016Z"
    }
   },
   "cell_type": "code",
   "source": "percentage(config_flow_integrations, config_flow_integrations[config_flow_integrations[\"reauth\"]])",
   "id": "46e1be54e6d57d26",
   "outputs": [
    {
     "data": {
      "text/plain": [
       "'Total: 631, Amount: 181, Percentage: 28.68%'"
      ]
     },
     "execution_count": 427,
     "metadata": {},
     "output_type": "execute_result"
    }
   ],
   "execution_count": 427
  },
  {
   "metadata": {
    "ExecuteTime": {
     "end_time": "2024-06-12T12:07:42.552668Z",
     "start_time": "2024-06-12T12:07:42.549847Z"
    }
   },
   "cell_type": "code",
   "source": "percentage(up_to_platinum[up_to_platinum[\"config_flow\"]], up_to_platinum[up_to_platinum[\"reauth\"]])",
   "id": "1754221642cee8f8",
   "outputs": [
    {
     "data": {
      "text/plain": [
       "'Total: 93, Amount: 39, Percentage: 41.94%'"
      ]
     },
     "execution_count": 428,
     "metadata": {},
     "output_type": "execute_result"
    }
   ],
   "execution_count": 428
  },
  {
   "metadata": {
    "ExecuteTime": {
     "end_time": "2024-06-12T12:07:42.555922Z",
     "start_time": "2024-06-12T12:07:42.553152Z"
    }
   },
   "cell_type": "code",
   "source": "percentage(df, df[df[\"codeowners\"] > 0])",
   "id": "f0eebfbaaebfd2d",
   "outputs": [
    {
     "data": {
      "text/plain": [
       "'Total: 1054, Amount: 747, Percentage: 70.87%'"
      ]
     },
     "execution_count": 429,
     "metadata": {},
     "output_type": "execute_result"
    }
   ],
   "execution_count": 429
  },
  {
   "metadata": {
    "ExecuteTime": {
     "end_time": "2024-06-12T12:07:42.558397Z",
     "start_time": "2024-06-12T12:07:42.556415Z"
    }
   },
   "cell_type": "code",
   "source": "percentage(up_to_platinum, up_to_platinum[up_to_platinum[\"codeowners\"] > 0])",
   "id": "74cdae8407b1da38",
   "outputs": [
    {
     "data": {
      "text/plain": [
       "'Total: 94, Amount: 93, Percentage: 98.94%'"
      ]
     },
     "execution_count": 430,
     "metadata": {},
     "output_type": "execute_result"
    }
   ],
   "execution_count": 430
  },
  {
   "metadata": {
    "ExecuteTime": {
     "end_time": "2024-06-12T12:07:42.561081Z",
     "start_time": "2024-06-12T12:07:42.558864Z"
    }
   },
   "cell_type": "code",
   "source": "percentage(config_flow_integrations, config_flow_integrations[config_flow_integrations[\"diagnostics\"]])",
   "id": "7e1ab9e5dcf065e4",
   "outputs": [
    {
     "data": {
      "text/plain": [
       "'Total: 631, Amount: 180, Percentage: 28.53%'"
      ]
     },
     "execution_count": 431,
     "metadata": {},
     "output_type": "execute_result"
    }
   ],
   "execution_count": 431
  },
  {
   "metadata": {
    "ExecuteTime": {
     "end_time": "2024-06-12T12:07:42.563688Z",
     "start_time": "2024-06-12T12:07:42.561617Z"
    }
   },
   "cell_type": "code",
   "source": "percentage(up_to_platinum, up_to_platinum[up_to_platinum[\"diagnostics\"]])",
   "id": "a8596438e9ef097d",
   "outputs": [
    {
     "data": {
      "text/plain": [
       "'Total: 94, Amount: 63, Percentage: 67.02%'"
      ]
     },
     "execution_count": 432,
     "metadata": {},
     "output_type": "execute_result"
    }
   ],
   "execution_count": 432
  },
  {
   "metadata": {
    "ExecuteTime": {
     "end_time": "2024-06-12T12:07:42.566081Z",
     "start_time": "2024-06-12T12:07:42.564093Z"
    }
   },
   "cell_type": "code",
   "source": "percentage(config_flow_integrations, config_flow_integrations[config_flow_integrations[\"reconfigure\"]])",
   "id": "1d57bc8a008fb744",
   "outputs": [
    {
     "data": {
      "text/plain": [
       "'Total: 631, Amount: 13, Percentage: 2.06%'"
      ]
     },
     "execution_count": 433,
     "metadata": {},
     "output_type": "execute_result"
    }
   ],
   "execution_count": 433
  },
  {
   "metadata": {
    "ExecuteTime": {
     "end_time": "2024-06-12T12:07:42.568455Z",
     "start_time": "2024-06-12T12:07:42.566447Z"
    }
   },
   "cell_type": "code",
   "source": "percentage(up_to_platinum, up_to_platinum[up_to_platinum[\"reconfigure\"]])",
   "id": "7b0e2b6dc6733e76",
   "outputs": [
    {
     "data": {
      "text/plain": [
       "'Total: 94, Amount: 4, Percentage: 4.26%'"
      ]
     },
     "execution_count": 434,
     "metadata": {},
     "output_type": "execute_result"
    }
   ],
   "execution_count": 434
  }
 ],
 "metadata": {
  "kernelspec": {
   "display_name": "Python 3",
   "language": "python",
   "name": "python3"
  },
  "language_info": {
   "codemirror_mode": {
    "name": "ipython",
    "version": 2
   },
   "file_extension": ".py",
   "mimetype": "text/x-python",
   "name": "python",
   "nbconvert_exporter": "python",
   "pygments_lexer": "ipython2",
   "version": "2.7.6"
  }
 },
 "nbformat": 4,
 "nbformat_minor": 5
}
